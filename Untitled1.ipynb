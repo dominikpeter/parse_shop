{
 "cells": [
  {
   "cell_type": "code",
   "execution_count": 1,
   "metadata": {
    "collapsed": true
   },
   "outputs": [],
   "source": [
    "# coding: utf-8\n",
    "\n",
    "import bs4 as bs\n",
    "import urllib.request\n",
    "import pandas as pd\n",
    "import numpy as np\n",
    "import re\n",
    "import progressbar\n",
    "from itertools import chain\n",
    "from multiprocessing import Pool\n",
    "import functools\n",
    "import csv\n",
    "import requests\n",
    "from collections import defaultdict\n",
    "import json\n",
    "import argparse\n",
    "\n",
    "def get_session(shop):\n",
    "    source = urllib.request.urlopen(\"http://www.dfshop.com/TeamShop/\")\n",
    "    soup = bs.BeautifulSoup(source, 'lxml', parse_only=bs.SoupStrainer('td'))\n",
    "\n",
    "    g = [i[0]+1 for i in enumerate(soup) if re.match(\".+\"+str(shop)+\".+\", str(i[1]))]\n",
    "    link = [i[1] for i in enumerate(soup) if i[0] == g[0]]\n",
    "    html = [i['href'] for i in link[0].find_all(\"a\")]\n",
    "\n",
    "    s = requests.Session()\n",
    "    r = s.get(html[0])\n",
    "    soup = bs.BeautifulSoup(r.text, \"lxml\")\n",
    "    html = [\"http://www.dfshop.com\"+i['href'] for i in soup.find_all(\"a\")]\n",
    "    return html\n",
    "\n",
    "def post_request(session, page):\n",
    "    s = requests.Session()\n",
    "    r = s.get(session[0]+\"&f=search&txtArnum=\"+str(page))\n",
    "    soup = bs.BeautifulSoup(r.text, \"lxml\")\n",
    "    return soup\n",
    "\n",
    "def clean_article(article):\n",
    "    article = re.sub(\"\\D+\", \"\", article)\n",
    "    return article\n",
    "\n",
    "def clean_price(price):\n",
    "    price = re.sub(\"[^0-9.]\", \"\", price)\n",
    "    return float(price)\n",
    "\n",
    "def next_page(session):\n",
    "    s = requests.Session()\n",
    "    r = s.get(session+\"&f=listpage&nav=next\")\n",
    "    soup = bs.BeautifulSoup(r.text, \"lxml\")\n",
    "    return soup\n",
    "\n",
    "def loop_page(session, page):\n",
    "    l = {}\n",
    "    pages = []\n",
    "    from_ = 0\n",
    "    to_ = 1\n",
    "    while from_ != to_:\n",
    "        try:\n",
    "            if from_ == 0:\n",
    "                s = post_request(session, page)\n",
    "            else:\n",
    "                s = next_page(session)\n",
    "            page_string = [re.findall(\"Seite.\\d+\\svon\\s\\d+\", i.text)[0] for i in s.select(\"#artListFooter\")]\n",
    "            page = re.findall(\"\\d+\", page_string[0])\n",
    "            from_, to_ = page[0], page[1]\n",
    "            pages.append([from_, to_])\n",
    "\n",
    "            article = s.select(\".artdesc\")\n",
    "            dimension = s.select(\".artdimension\")\n",
    "            price = s.select(\".artprice\")\n",
    "\n",
    "            for x, y, z in zip(article, dimension, price):\n",
    "                artnumbr = re.findall(\"art=\\w{2}\\d+\", str(x))\n",
    "                text = re.findall(\"art=.+>.+<\", str(x))\n",
    "                text2 = re.findall(\"arttext.+<\", str(x))\n",
    "                price_ = re.findall(\"artprice.+>\\d+.+<\", str(z))\n",
    "                try:\n",
    "                    artnumbr = clean_article(\" \".join(artnumbr))\n",
    "                    #text = text[0]\n",
    "                    text3 = \" \".join(text2)\n",
    "                    price_ = clean_price(\" \".join(price_))\n",
    "                    l[artnumbr] = [text2, price_]\n",
    "                except:\n",
    "                    continue\n",
    "        except:\n",
    "            continue\n",
    "    return l\n",
    "\n",
    "\n",
    "def parse_shop(shop, catalog=(0,10)):\n",
    "    session = get_session(shop)\n",
    "    container = defaultdict(lambda: defaultdict(list))\n",
    "\n",
    "    for p in range(catalog[0], catalog[1]):\n",
    "        print(\"Parsing Catalog Number: %s\" % (str(p)))\n",
    "        container[shop][str(p)] = loop_page(session, p)\n",
    "\n",
    "    return container"
   ]
  },
  {
   "cell_type": "code",
   "execution_count": 2,
   "metadata": {
    "collapsed": false
   },
   "outputs": [
    {
     "data": {
      "text/plain": [
       "'http://www.dfshop.com/dfshop/wsTeamShop.wsc/pTsHome.p?session=AOkibvRdiRacUacslgchdAUikeUGolRG'"
      ]
     },
     "execution_count": 2,
     "metadata": {},
     "output_type": "execute_result"
    }
   ],
   "source": [
    "session = get_session(\"Sabag\")[0]\n",
    "session"
   ]
  },
  {
   "cell_type": "code",
   "execution_count": 3,
   "metadata": {
    "collapsed": false
   },
   "outputs": [],
   "source": [
    "def get_category(session):\n",
    "    s = requests.Session()\n",
    "    r = s.get(session)\n",
    "    soup = bs.BeautifulSoup(r.text, 'lxml', parse_only=bs.SoupStrainer('a'))\n",
    "    links = set()\n",
    "    for i in soup.find_all(\"a\", href = re.compile(r'.+cat=\\d.+')):\n",
    "        links.add(\"http://www.dfshop.com/\"+i['href'])\n",
    "    links = list(links)\n",
    "    links.sort()\n",
    "    return links"
   ]
  },
  {
   "cell_type": "code",
   "execution_count": 4,
   "metadata": {
    "collapsed": false
   },
   "outputs": [
    {
     "data": {
      "text/plain": [
       "['http://www.dfshop.com//dfshop/wsTeamShop.wsc/pTsHome.p?session=AOkibvRdiRacUacslgchdAUikeUGolRG&f=cat&cat=10.0.0.0',\n",
       " 'http://www.dfshop.com//dfshop/wsTeamShop.wsc/pTsHome.p?session=AOkibvRdiRacUacslgchdAUikeUGolRG&f=cat&cat=2.0.0.0',\n",
       " 'http://www.dfshop.com//dfshop/wsTeamShop.wsc/pTsHome.p?session=AOkibvRdiRacUacslgchdAUikeUGolRG&f=cat&cat=3.0.0.0',\n",
       " 'http://www.dfshop.com//dfshop/wsTeamShop.wsc/pTsHome.p?session=AOkibvRdiRacUacslgchdAUikeUGolRG&f=cat&cat=4.0.0.0',\n",
       " 'http://www.dfshop.com//dfshop/wsTeamShop.wsc/pTsHome.p?session=AOkibvRdiRacUacslgchdAUikeUGolRG&f=cat&cat=5.0.0.0',\n",
       " 'http://www.dfshop.com//dfshop/wsTeamShop.wsc/pTsHome.p?session=AOkibvRdiRacUacslgchdAUikeUGolRG&f=cat&cat=6.0.0.0',\n",
       " 'http://www.dfshop.com//dfshop/wsTeamShop.wsc/pTsHome.p?session=AOkibvRdiRacUacslgchdAUikeUGolRG&f=cat&cat=7.0.0.0',\n",
       " 'http://www.dfshop.com//dfshop/wsTeamShop.wsc/pTsHome.p?session=AOkibvRdiRacUacslgchdAUikeUGolRG&f=cat&cat=8.0.0.0',\n",
       " 'http://www.dfshop.com//dfshop/wsTeamShop.wsc/pTsHome.p?session=AOkibvRdiRacUacslgchdAUikeUGolRG&f=cat&cat=9.0.0.0']"
      ]
     },
     "execution_count": 4,
     "metadata": {},
     "output_type": "execute_result"
    }
   ],
   "source": [
    "cats = get_category(session)\n",
    "cats"
   ]
  },
  {
   "cell_type": "code",
   "execution_count": 5,
   "metadata": {
    "collapsed": false
   },
   "outputs": [],
   "source": [
    "def next_page_by_cat(session):\n",
    "    s = requests.Session()\n",
    "    session = re.sub(\"&f=cat&cat=\\d.+\", \"&f=listpage&nav=next\", session)\n",
    "    r = s.get(session)\n",
    "    soup = bs.BeautifulSoup(r.text, \"lxml\")\n",
    "    return soup"
   ]
  },
  {
   "cell_type": "code",
   "execution_count": 6,
   "metadata": {
    "collapsed": true
   },
   "outputs": [],
   "source": [
    "def init_session(session):\n",
    "    s = requests.Session()\n",
    "    r = s.get(session)\n",
    "    #return print(\"Session Initialized\")"
   ]
  },
  {
   "cell_type": "code",
   "execution_count": 7,
   "metadata": {
    "collapsed": false
   },
   "outputs": [],
   "source": [
    "def loop_article_href(session):\n",
    "    init_session(session)\n",
    "    links = set()\n",
    "    from_, to_ = int(0), int(1)\n",
    "    while to_ > from_:\n",
    "        try:\n",
    "            soup = next_page_by_cat(session)\n",
    "\n",
    "            for i in soup.find_all('a', href = re.compile(r'.+art=\\w{2}\\d+')):\n",
    "                links.add(re.findall(r'art=\\w{2}\\d+',i['href'])[0][4:])\n",
    "\n",
    "            indexes = [re.findall(r'\\d+', i.text) for i in soup.find_all('div',{\"id\": \"artListFooter\"})][0]\n",
    "\n",
    "            from_ = int(indexes[1])\n",
    "            to_ = int(indexes[2])\n",
    "            \n",
    "            percent = float(indexes[1]) / float(indexes[2])\n",
    "            \n",
    "            if round(percent,1) in range(10, 110, 10):\n",
    "                print(\"Parsing: %s of %s (%s)\" % (str(indexes[1]), str(indexes[2]), str(round(percent,1))))\n",
    "        except requests.exceptions.HTTPError as err:\n",
    "            print(err)\n",
    "            continue\n",
    "    \n",
    "    links = list(links)\n",
    "    links.sort()\n",
    "    return links"
   ]
  },
  {
   "cell_type": "code",
   "execution_count": 8,
   "metadata": {
    "collapsed": false
   },
   "outputs": [],
   "source": [
    "def get_all_article_links(categorys):\n",
    "    \n",
    "    container = {}\n",
    "    \n",
    "    for c in categorys:\n",
    "        cat_string = str(re.findall(r'(cat=\\d+\\.\\d+\\.\\d+\\.\\d+)', c)[0])\n",
    "        print(\"Parsing: %s\" % (re.sub(\"=\", \" = \", cat_string)))\n",
    "        container[cat_string] = loop_article_href(c)\n",
    "        \n",
    "    return container"
   ]
  },
  {
   "cell_type": "code",
   "execution_count": null,
   "metadata": {
    "collapsed": false
   },
   "outputs": [
    {
     "name": "stdout",
     "output_type": "stream",
     "text": [
      "Parsing: cat = 10.0.0.0\n"
     ]
    }
   ],
   "source": [
    "article_refs = get_all_article_links(cats)"
   ]
  },
  {
   "cell_type": "code",
   "execution_count": 9,
   "metadata": {
    "collapsed": true
   },
   "outputs": [],
   "source": [
    "def output_json_file(data, filename):\n",
    "    with open(filename, 'w') as outfile:\n",
    "        json.dump(data, outfile)\n",
    "    \n",
    "    return print(\"Writing %s\" % (str(filename)))"
   ]
  },
  {
   "cell_type": "code",
   "execution_count": 33,
   "metadata": {
    "collapsed": false
   },
   "outputs": [
    {
     "name": "stdout",
     "output_type": "stream",
     "text": [
      "Writing test.json\n"
     ]
    }
   ],
   "source": [
    "output_json_file(article_refs, \"test.json\")"
   ]
  },
  {
   "cell_type": "code",
   "execution_count": 11,
   "metadata": {
    "collapsed": true
   },
   "outputs": [],
   "source": [
    "def read_json_file(filename):\n",
    "    with open(filename) as data_file:    \n",
    "        data = json.load(data_file)\n",
    "    return data"
   ]
  },
  {
   "cell_type": "code",
   "execution_count": 12,
   "metadata": {
    "collapsed": false
   },
   "outputs": [],
   "source": [
    "d = read_json_file(\"test.json\")"
   ]
  },
  {
   "cell_type": "code",
   "execution_count": 14,
   "metadata": {
    "collapsed": false
   },
   "outputs": [],
   "source": [
    "def parse_article(session, idArticle):\n",
    "    container = {}\n",
    "    for article in idArticle.values():\n",
    "        for i in article:\n",
    "            s = requests.Session()\n",
    "            r = s.get(session + \"&f=art&art=\" + str(i))\n",
    "            \n",
    "            soup = bs.BeautifulSoup(r.text, 'lxml', parse_only=bs.SoupStrainer('div', {\"id\": \"artDetailMain\"}))\n",
    "            text = [re.sub(\"\\n\", \"\", i.text) for i in soup.find_all(\"div\", {'id': 'artDetailDescRow'})]\n",
    "            idsupplier = [re.sub(\"\\n\", \"\", i.text) for i in soup.find_all(\"div\", {'id': 'artDetailLiefArnumRow'})]\n",
    "            price = [re.findall(\"\\d+\\.\\d+\", i.text)[0] for i in soup.find_all(\"div\", {'id': 'artDetailLiefPriceRow'})]\n",
    "            \n",
    "            container[str(i)] = [text, idsupplier, price]        \n",
    "    return container"
   ]
  },
  {
   "cell_type": "code",
   "execution_count": 15,
   "metadata": {
    "collapsed": false
   },
   "outputs": [
    {
     "ename": "IndexError",
     "evalue": "list index out of range",
     "output_type": "error",
     "traceback": [
      "\u001b[0;31m---------------------------------------------------------------------------\u001b[0m",
      "\u001b[0;31mIndexError\u001b[0m                                Traceback (most recent call last)",
      "\u001b[0;32m<ipython-input-15-3166d7d8490c>\u001b[0m in \u001b[0;36m<module>\u001b[0;34m()\u001b[0m\n\u001b[0;32m----> 1\u001b[0;31m \u001b[0mg\u001b[0m \u001b[0;34m=\u001b[0m \u001b[0mparse_article\u001b[0m\u001b[0;34m(\u001b[0m\u001b[0msession\u001b[0m\u001b[0;34m,\u001b[0m \u001b[0md\u001b[0m\u001b[0;34m)\u001b[0m\u001b[0;34m\u001b[0m\u001b[0m\n\u001b[0m",
      "\u001b[0;32m<ipython-input-14-24dd27cb2d1e>\u001b[0m in \u001b[0;36mparse_article\u001b[0;34m(session, idArticle)\u001b[0m\n\u001b[1;32m      9\u001b[0m             \u001b[0mtext\u001b[0m \u001b[0;34m=\u001b[0m \u001b[0;34m[\u001b[0m\u001b[0mre\u001b[0m\u001b[0;34m.\u001b[0m\u001b[0msub\u001b[0m\u001b[0;34m(\u001b[0m\u001b[0;34m\"\\n\"\u001b[0m\u001b[0;34m,\u001b[0m \u001b[0;34m\"\"\u001b[0m\u001b[0;34m,\u001b[0m \u001b[0mi\u001b[0m\u001b[0;34m.\u001b[0m\u001b[0mtext\u001b[0m\u001b[0;34m)\u001b[0m \u001b[0;32mfor\u001b[0m \u001b[0mi\u001b[0m \u001b[0;32min\u001b[0m \u001b[0msoup\u001b[0m\u001b[0;34m.\u001b[0m\u001b[0mfind_all\u001b[0m\u001b[0;34m(\u001b[0m\u001b[0;34m\"div\"\u001b[0m\u001b[0;34m,\u001b[0m \u001b[0;34m{\u001b[0m\u001b[0;34m'id'\u001b[0m\u001b[0;34m:\u001b[0m \u001b[0;34m'artDetailDescRow'\u001b[0m\u001b[0;34m}\u001b[0m\u001b[0;34m)\u001b[0m\u001b[0;34m]\u001b[0m\u001b[0;34m\u001b[0m\u001b[0m\n\u001b[1;32m     10\u001b[0m             \u001b[0midsupplier\u001b[0m \u001b[0;34m=\u001b[0m \u001b[0;34m[\u001b[0m\u001b[0mre\u001b[0m\u001b[0;34m.\u001b[0m\u001b[0msub\u001b[0m\u001b[0;34m(\u001b[0m\u001b[0;34m\"\\n\"\u001b[0m\u001b[0;34m,\u001b[0m \u001b[0;34m\"\"\u001b[0m\u001b[0;34m,\u001b[0m \u001b[0mi\u001b[0m\u001b[0;34m.\u001b[0m\u001b[0mtext\u001b[0m\u001b[0;34m)\u001b[0m \u001b[0;32mfor\u001b[0m \u001b[0mi\u001b[0m \u001b[0;32min\u001b[0m \u001b[0msoup\u001b[0m\u001b[0;34m.\u001b[0m\u001b[0mfind_all\u001b[0m\u001b[0;34m(\u001b[0m\u001b[0;34m\"div\"\u001b[0m\u001b[0;34m,\u001b[0m \u001b[0;34m{\u001b[0m\u001b[0;34m'id'\u001b[0m\u001b[0;34m:\u001b[0m \u001b[0;34m'artDetailLiefArnumRow'\u001b[0m\u001b[0;34m}\u001b[0m\u001b[0;34m)\u001b[0m\u001b[0;34m]\u001b[0m\u001b[0;34m\u001b[0m\u001b[0m\n\u001b[0;32m---> 11\u001b[0;31m             \u001b[0mprice\u001b[0m \u001b[0;34m=\u001b[0m \u001b[0;34m[\u001b[0m\u001b[0mre\u001b[0m\u001b[0;34m.\u001b[0m\u001b[0mfindall\u001b[0m\u001b[0;34m(\u001b[0m\u001b[0;34m\"\\d+\\.\\d+\"\u001b[0m\u001b[0;34m,\u001b[0m \u001b[0mi\u001b[0m\u001b[0;34m.\u001b[0m\u001b[0mtext\u001b[0m\u001b[0;34m)\u001b[0m\u001b[0;34m[\u001b[0m\u001b[0;36m0\u001b[0m\u001b[0;34m]\u001b[0m \u001b[0;32mfor\u001b[0m \u001b[0mi\u001b[0m \u001b[0;32min\u001b[0m \u001b[0msoup\u001b[0m\u001b[0;34m.\u001b[0m\u001b[0mfind_all\u001b[0m\u001b[0;34m(\u001b[0m\u001b[0;34m\"div\"\u001b[0m\u001b[0;34m,\u001b[0m \u001b[0;34m{\u001b[0m\u001b[0;34m'id'\u001b[0m\u001b[0;34m:\u001b[0m \u001b[0;34m'artDetailLiefPriceRow'\u001b[0m\u001b[0;34m}\u001b[0m\u001b[0;34m)\u001b[0m\u001b[0;34m]\u001b[0m\u001b[0;34m\u001b[0m\u001b[0m\n\u001b[0m\u001b[1;32m     12\u001b[0m \u001b[0;34m\u001b[0m\u001b[0m\n\u001b[1;32m     13\u001b[0m             \u001b[0mcontainer\u001b[0m\u001b[0;34m[\u001b[0m\u001b[0mstr\u001b[0m\u001b[0;34m(\u001b[0m\u001b[0mi\u001b[0m\u001b[0;34m)\u001b[0m\u001b[0;34m]\u001b[0m \u001b[0;34m=\u001b[0m \u001b[0;34m[\u001b[0m\u001b[0mtext\u001b[0m\u001b[0;34m,\u001b[0m \u001b[0midsupplier\u001b[0m\u001b[0;34m,\u001b[0m \u001b[0mprice\u001b[0m\u001b[0;34m]\u001b[0m\u001b[0;34m\u001b[0m\u001b[0m\n",
      "\u001b[0;32m<ipython-input-14-24dd27cb2d1e>\u001b[0m in \u001b[0;36m<listcomp>\u001b[0;34m(.0)\u001b[0m\n\u001b[1;32m      9\u001b[0m             \u001b[0mtext\u001b[0m \u001b[0;34m=\u001b[0m \u001b[0;34m[\u001b[0m\u001b[0mre\u001b[0m\u001b[0;34m.\u001b[0m\u001b[0msub\u001b[0m\u001b[0;34m(\u001b[0m\u001b[0;34m\"\\n\"\u001b[0m\u001b[0;34m,\u001b[0m \u001b[0;34m\"\"\u001b[0m\u001b[0;34m,\u001b[0m \u001b[0mi\u001b[0m\u001b[0;34m.\u001b[0m\u001b[0mtext\u001b[0m\u001b[0;34m)\u001b[0m \u001b[0;32mfor\u001b[0m \u001b[0mi\u001b[0m \u001b[0;32min\u001b[0m \u001b[0msoup\u001b[0m\u001b[0;34m.\u001b[0m\u001b[0mfind_all\u001b[0m\u001b[0;34m(\u001b[0m\u001b[0;34m\"div\"\u001b[0m\u001b[0;34m,\u001b[0m \u001b[0;34m{\u001b[0m\u001b[0;34m'id'\u001b[0m\u001b[0;34m:\u001b[0m \u001b[0;34m'artDetailDescRow'\u001b[0m\u001b[0;34m}\u001b[0m\u001b[0;34m)\u001b[0m\u001b[0;34m]\u001b[0m\u001b[0;34m\u001b[0m\u001b[0m\n\u001b[1;32m     10\u001b[0m             \u001b[0midsupplier\u001b[0m \u001b[0;34m=\u001b[0m \u001b[0;34m[\u001b[0m\u001b[0mre\u001b[0m\u001b[0;34m.\u001b[0m\u001b[0msub\u001b[0m\u001b[0;34m(\u001b[0m\u001b[0;34m\"\\n\"\u001b[0m\u001b[0;34m,\u001b[0m \u001b[0;34m\"\"\u001b[0m\u001b[0;34m,\u001b[0m \u001b[0mi\u001b[0m\u001b[0;34m.\u001b[0m\u001b[0mtext\u001b[0m\u001b[0;34m)\u001b[0m \u001b[0;32mfor\u001b[0m \u001b[0mi\u001b[0m \u001b[0;32min\u001b[0m \u001b[0msoup\u001b[0m\u001b[0;34m.\u001b[0m\u001b[0mfind_all\u001b[0m\u001b[0;34m(\u001b[0m\u001b[0;34m\"div\"\u001b[0m\u001b[0;34m,\u001b[0m \u001b[0;34m{\u001b[0m\u001b[0;34m'id'\u001b[0m\u001b[0;34m:\u001b[0m \u001b[0;34m'artDetailLiefArnumRow'\u001b[0m\u001b[0;34m}\u001b[0m\u001b[0;34m)\u001b[0m\u001b[0;34m]\u001b[0m\u001b[0;34m\u001b[0m\u001b[0m\n\u001b[0;32m---> 11\u001b[0;31m             \u001b[0mprice\u001b[0m \u001b[0;34m=\u001b[0m \u001b[0;34m[\u001b[0m\u001b[0mre\u001b[0m\u001b[0;34m.\u001b[0m\u001b[0mfindall\u001b[0m\u001b[0;34m(\u001b[0m\u001b[0;34m\"\\d+\\.\\d+\"\u001b[0m\u001b[0;34m,\u001b[0m \u001b[0mi\u001b[0m\u001b[0;34m.\u001b[0m\u001b[0mtext\u001b[0m\u001b[0;34m)\u001b[0m\u001b[0;34m[\u001b[0m\u001b[0;36m0\u001b[0m\u001b[0;34m]\u001b[0m \u001b[0;32mfor\u001b[0m \u001b[0mi\u001b[0m \u001b[0;32min\u001b[0m \u001b[0msoup\u001b[0m\u001b[0;34m.\u001b[0m\u001b[0mfind_all\u001b[0m\u001b[0;34m(\u001b[0m\u001b[0;34m\"div\"\u001b[0m\u001b[0;34m,\u001b[0m \u001b[0;34m{\u001b[0m\u001b[0;34m'id'\u001b[0m\u001b[0;34m:\u001b[0m \u001b[0;34m'artDetailLiefPriceRow'\u001b[0m\u001b[0;34m}\u001b[0m\u001b[0;34m)\u001b[0m\u001b[0;34m]\u001b[0m\u001b[0;34m\u001b[0m\u001b[0m\n\u001b[0m\u001b[1;32m     12\u001b[0m \u001b[0;34m\u001b[0m\u001b[0m\n\u001b[1;32m     13\u001b[0m             \u001b[0mcontainer\u001b[0m\u001b[0;34m[\u001b[0m\u001b[0mstr\u001b[0m\u001b[0;34m(\u001b[0m\u001b[0mi\u001b[0m\u001b[0;34m)\u001b[0m\u001b[0;34m]\u001b[0m \u001b[0;34m=\u001b[0m \u001b[0;34m[\u001b[0m\u001b[0mtext\u001b[0m\u001b[0;34m,\u001b[0m \u001b[0midsupplier\u001b[0m\u001b[0;34m,\u001b[0m \u001b[0mprice\u001b[0m\u001b[0;34m]\u001b[0m\u001b[0;34m\u001b[0m\u001b[0m\n",
      "\u001b[0;31mIndexError\u001b[0m: list index out of range"
     ]
    }
   ],
   "source": [
    "g = parse_article(session, d)"
   ]
  },
  {
   "cell_type": "code",
   "execution_count": 120,
   "metadata": {
    "collapsed": false
   },
   "outputs": [
    {
     "data": {
      "text/plain": [
       "{'AA014671': [['BeschreibungTauchrohr TECEdrainlinezu Ablauf flach 146 771'],\n",
       "  ['Artikel-Nr des Herstellers6.680.10'],\n",
       "  ['3.20']],\n",
       " 'AA014672': [['BeschreibungTauchrohr TECEdrainlinezu Ablauf Norm 146 772'],\n",
       "  ['Artikel-Nr des Herstellers6.680.11'],\n",
       "  ['3.20']],\n",
       " 'AA014673': [['BeschreibungTauchrohr TECEdrainlinezu Ablauf max und senkrecht146 773/774'],\n",
       "  ['Artikel-Nr des Herstellers6.680.19'],\n",
       "  ['3.60']],\n",
       " 'AA014674': [['BeschreibungTauchrohr TECEdrainlinezu Ablauf superflach 146 770'],\n",
       "  ['Artikel-Nr des Herstellers6.680.25'],\n",
       "  ['3.20']],\n",
       " 'AA014675': [['BeschreibungMembran-Geruchsverschluss fürAblauf TECEdrainlinesuperflach 146 770'],\n",
       "  ['Artikel-Nr des Herstellers6.600.15'],\n",
       "  ['21.00']],\n",
       " 'AA014676': [['BeschreibungMembran-Geruchsverschluss fürAblauf TECEdrainline super-flach 146 771'],\n",
       "  ['Artikel-Nr des Herstellers6.600.16'],\n",
       "  ['22.50']],\n",
       " 'AA014677': [['BeschreibungMembran-Geruchsverschluss fürAblauf TECEdrainline Norm146 772'],\n",
       "  ['Artikel-Nr des Herstellers6.600.18'],\n",
       "  ['25.50']],\n",
       " 'AA014678': [['BeschreibungMembran-Geruchsverschluss fürAblauf TECEdrainline max undsenkrecht 146 773/774'],\n",
       "  ['Artikel-Nr des Herstellers6.600.17'],\n",
       "  ['24.00']],\n",
       " 'AA014690': [['BeschreibungRinnenkörper INLINEfür 3-Rohr-Wärmetauscherfür raumseitige MontageLänge 83,7 cm'],\n",
       "  ['Artikel-Nr des HerstellersJ3/RK-3P-630-R'],\n",
       "  ['746.00']],\n",
       " 'AA014691': [['BeschreibungRinnenkörper INLINEfür 3-Rohr-Wärmetauschermit Wandaufkantung für wand-seitige Montage, Länge 83,7 cm'],\n",
       "  ['Artikel-Nr des HerstellersJ3/RK-3P-630-W'],\n",
       "  ['746.00']]}"
      ]
     },
     "execution_count": 120,
     "metadata": {},
     "output_type": "execute_result"
    }
   ],
   "source": [
    "g"
   ]
  },
  {
   "cell_type": "code",
   "execution_count": null,
   "metadata": {
    "collapsed": true
   },
   "outputs": [],
   "source": []
  }
 ],
 "metadata": {
  "kernelspec": {
   "display_name": "Python 3",
   "language": "python",
   "name": "python3"
  },
  "language_info": {
   "codemirror_mode": {
    "name": "ipython",
    "version": 3
   },
   "file_extension": ".py",
   "mimetype": "text/x-python",
   "name": "python",
   "nbconvert_exporter": "python",
   "pygments_lexer": "ipython3",
   "version": "3.6.1"
  }
 },
 "nbformat": 4,
 "nbformat_minor": 2
}
