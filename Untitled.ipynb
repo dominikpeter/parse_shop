{
 "cells": [
  {
   "cell_type": "code",
   "execution_count": 15,
   "metadata": {
    "collapsed": false
   },
   "outputs": [],
   "source": [
    "import bs4 as bs\n",
    "import urllib.request\n",
    "import pandas as pd\n",
    "import numpy as np\n",
    "import re\n",
    "import progressbar\n",
    "from itertools import chain\n",
    "from multiprocessing import Pool\n",
    "import functools\n",
    "import csv\n",
    "import requests\n",
    "from joblib import Parallel, delayed"
   ]
  },
  {
   "cell_type": "code",
   "execution_count": 16,
   "metadata": {
    "collapsed": true
   },
   "outputs": [],
   "source": [
    "def remove_duplicates(l):\n",
    "    return list(set(l))"
   ]
  },
  {
   "cell_type": "code",
   "execution_count": 17,
   "metadata": {
    "collapsed": true
   },
   "outputs": [],
   "source": [
    "def flatten(list_):\n",
    "    if any(isinstance(i, list) for i in list_):\n",
    "        list_ = chain.from_iterable(list_)\n",
    "    return remove_duplicates(list_)"
   ]
  },
  {
   "cell_type": "code",
   "execution_count": 18,
   "metadata": {
    "collapsed": true
   },
   "outputs": [],
   "source": [
    "def get_links(htmls, pattern):\n",
    "    if isinstance(htmls, str):\n",
    "        htmls = [htmls]\n",
    "    container = []\n",
    "    for i in htmls:\n",
    "        source = urllib.request.urlopen(i)\n",
    "        soup = bs.BeautifulSoup(source, 'lxml', parse_only=bs.SoupStrainer('a'))\n",
    "\n",
    "        for link in soup.find_all('a', href=True):\n",
    "            l = link['href']\n",
    "            if re.match(pattern, l):\n",
    "                container.append(\"http://www.dfshop.com\"+l)\n",
    "    container = flatten(container)\n",
    "    return container"
   ]
  },
  {
   "cell_type": "code",
   "execution_count": 19,
   "metadata": {
    "collapsed": true,
    "deletable": true,
    "editable": true
   },
   "outputs": [],
   "source": [
    "def get_category(html, pattern):\n",
    "    pool = Pool(4)\n",
    "    iter_cat = functools.partial(get_links, pattern=pattern)\n",
    "\n",
    "    parents            = get_links(html, pattern=pattern)\n",
    "    children           = pool.map(iter_cat, parents)\n",
    "    #grandchildren      = flatten(pool.map(iter_cat, children))\n",
    "    #ggchildren         = flatten(pool.map(iter_cat, grandchildren))\n",
    "\n",
    "    return children"
   ]
  },
  {
   "cell_type": "code",
   "execution_count": 20,
   "metadata": {
    "collapsed": true
   },
   "outputs": [],
   "source": [
    "def get_article(html, pattern):\n",
    "    pool = Pool(6)\n",
    "    iter_art = functools.partial(get_links, pattern=pattern)\n",
    "\n",
    "    arts               = flatten(pool.map(iter_art, ggchildren))\n",
    "    return arts"
   ]
  },
  {
   "cell_type": "code",
   "execution_count": 31,
   "metadata": {
    "collapsed": false
   },
   "outputs": [],
   "source": [
    "source = urllib.request.urlopen(\"http://www.dfshop.com/TeamShop/\")\n",
    "soup = bs.BeautifulSoup(source, 'lxml', parse_only=bs.SoupStrainer('td'))\n",
    "\n",
    "g = [i[0]+1 for i in enumerate(soup) if re.match(\".+Sabag.+\", str(i[1]))]\n",
    "link = [i[1] for i in enumerate(soup) if i[0] == g[0]]\n",
    "html = [i['href'] for i in link[0].find_all(\"a\")]"
   ]
  },
  {
   "cell_type": "code",
   "execution_count": 32,
   "metadata": {
    "collapsed": false
   },
   "outputs": [
    {
     "data": {
      "text/plain": [
       "['http://www.dfshop.com/dfshop/wsTeamShop.wsc/pTsHome.p?session=dTIWcvCibibjcbcdIdluizjmlcajaFsq']"
      ]
     },
     "execution_count": 32,
     "metadata": {},
     "output_type": "execute_result"
    }
   ],
   "source": [
    "s = requests.Session()\n",
    "r = s.get(html[0])\n",
    "soup = bs.BeautifulSoup(r.text, \"lxml\")\n",
    "html = [\"http://www.dfshop.com\"+i['href'] for i in soup.find_all(\"a\")]\n",
    "html"
   ]
  },
  {
   "cell_type": "code",
   "execution_count": null,
   "metadata": {
    "collapsed": false
   },
   "outputs": [],
   "source": [
    "items = {}\n",
    "total = 999999\n",
    "for i in range(0, total):\n",
    "    lenght = len(str(i))\n",
    "    leading = '000000'[0:-lenght]\n",
    "    request = html[0]+\"&f=art&art=AA\"+leading+str(i)\n",
    "    try:\n",
    "        r = s.get(request)\n",
    "        #r = s.get(html[0]+\"&f=art&art=AA\"+\"111004\")\n",
    "        soup = bs.BeautifulSoup(r.text, \"lxml\", parse_only=bs.SoupStrainer('div'))\n",
    "        article = [i.text for i in soup.select(\"#artDetailArnumCell\")]\n",
    "        if len(article[0]) < 3:\n",
    "            continue\n",
    "        text = [i.text for i in soup.select(\"#artDetailDescCell\")]\n",
    "        price = [i.text for i in soup.select(\"#artDetailPriceCell\")]\n",
    "        price = re.findall(\"\\d+\\.\\d+SFr\", price[0])[0][0:-3]\n",
    "        items[article[0]] = [text[0], price]\n",
    "    except:\n",
    "        continue"
   ]
  },
  {
   "cell_type": "code",
   "execution_count": 43,
   "metadata": {
    "collapsed": false
   },
   "outputs": [
    {
     "data": {
      "text/plain": [
       "{'3111001': ['Badewanne NORM CLASSIC140 x 70 x 44 cm, StahlSchallisolierung',\n",
       "  '609.00']}"
      ]
     },
     "execution_count": 43,
     "metadata": {},
     "output_type": "execute_result"
    }
   ],
   "source": [
    "items"
   ]
  },
  {
   "cell_type": "code",
   "execution_count": null,
   "metadata": {
    "collapsed": true
   },
   "outputs": [],
   "source": []
  },
  {
   "cell_type": "code",
   "execution_count": null,
   "metadata": {
    "collapsed": true
   },
   "outputs": [],
   "source": []
  }
 ],
 "metadata": {
  "kernelspec": {
   "display_name": "Python 3",
   "language": "python",
   "name": "python3"
  },
  "language_info": {
   "codemirror_mode": {
    "name": "ipython",
    "version": 3
   },
   "file_extension": ".py",
   "mimetype": "text/x-python",
   "name": "python",
   "nbconvert_exporter": "python",
   "pygments_lexer": "ipython3",
   "version": "3.6.1"
  }
 },
 "nbformat": 4,
 "nbformat_minor": 2
}
