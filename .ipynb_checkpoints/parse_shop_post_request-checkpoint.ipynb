{
 "cells": [
  {
   "cell_type": "code",
   "execution_count": 297,
   "metadata": {
    "collapsed": true
   },
   "outputs": [],
   "source": [
    "import bs4 as bs\n",
    "import urllib.request\n",
    "import pandas as pd\n",
    "import numpy as np\n",
    "import re\n",
    "import progressbar\n",
    "from itertools import chain\n",
    "from multiprocessing import Pool\n",
    "import functools\n",
    "import csv\n",
    "import requests\n",
    "from joblib import Parallel, delayed\n",
    "from collections import defaultdict"
   ]
  },
  {
   "cell_type": "code",
   "execution_count": 298,
   "metadata": {
    "collapsed": true
   },
   "outputs": [],
   "source": [
    "def get_session(shop):\n",
    "    source = urllib.request.urlopen(\"http://www.dfshop.com/TeamShop/\")\n",
    "    soup = bs.BeautifulSoup(source, 'lxml', parse_only=bs.SoupStrainer('td'))\n",
    "\n",
    "    g = [i[0]+1 for i in enumerate(soup) if re.match(\".+\"+str(shop)+\".+\", str(i[1]))]\n",
    "    link = [i[1] for i in enumerate(soup) if i[0] == g[0]]\n",
    "    html = [i['href'] for i in link[0].find_all(\"a\")]\n",
    "\n",
    "    s = requests.Session()\n",
    "    r = s.get(html[0])\n",
    "    soup = bs.BeautifulSoup(r.text, \"lxml\")\n",
    "    html = [\"http://www.dfshop.com\"+i['href'] for i in soup.find_all(\"a\")]\n",
    "    return html"
   ]
  },
  {
   "cell_type": "code",
   "execution_count": 299,
   "metadata": {
    "collapsed": true
   },
   "outputs": [],
   "source": [
    "def clean_text(text):\n",
    "    text = re.finall(\".\", text)\n",
    "    t = \"\"\n",
    "    for te in text:\n",
    "        t += str(te) + \" \"\n",
    "    return t"
   ]
  },
  {
   "cell_type": "code",
   "execution_count": 300,
   "metadata": {
    "collapsed": true
   },
   "outputs": [],
   "source": [
    "def post_request(session, page):\n",
    "    s = requests.Session()\n",
    "    r = s.get(session[0]+\"&f=search&txtArnum=\"+str(page))\n",
    "    soup = bs.BeautifulSoup(r.text, \"lxml\")\n",
    "    return soup"
   ]
  },
  {
   "cell_type": "code",
   "execution_count": 301,
   "metadata": {
    "collapsed": true
   },
   "outputs": [],
   "source": [
    "def clean_article(article):\n",
    "    article = re.sub(\"\\D+\", \"\", article)\n",
    "    return article"
   ]
  },
  {
   "cell_type": "code",
   "execution_count": 302,
   "metadata": {
    "collapsed": true
   },
   "outputs": [],
   "source": [
    "def clean_price(price):\n",
    "    price = re.sub(\"[^0-9.]\", \"\", price)\n",
    "    return price"
   ]
  },
  {
   "cell_type": "code",
   "execution_count": 303,
   "metadata": {
    "collapsed": true
   },
   "outputs": [],
   "source": [
    "def next_page(session):\n",
    "    s = requests.Session()\n",
    "    r = s.get(session[0]+\"&f=listpage&nav=next\")\n",
    "    soup = bs.BeautifulSoup(r.text, \"lxml\")\n",
    "    return soup"
   ]
  },
  {
   "cell_type": "code",
   "execution_count": 304,
   "metadata": {
    "collapsed": false
   },
   "outputs": [],
   "source": [
    "def loop_page(session, page):\n",
    "    \n",
    "    l = {}\n",
    "    \n",
    "    pages = []\n",
    "    from_ = 0\n",
    "    to_ = 1\n",
    "    while from_ != to_:\n",
    "        try:\n",
    "            if from_ == 0:\n",
    "                s = post_request(session, page)\n",
    "            \n",
    "            else:\n",
    "                s = next_page(session)\n",
    "            \n",
    "            page_string = [re.findall(\"Seite.\\d+\\svon\\s\\d+\", i.text)[0] for i in s.select(\"#artListFooter\")]\n",
    "            page = re.findall(\"\\d+\", page_string[0])\n",
    "            from_, to_ = page[0], page[1]\n",
    "            pages.append([from_, to_])\n",
    "\n",
    "            article = s.select(\".artdesc\")\n",
    "            dimension = s.select(\".artdimension\")\n",
    "            price = s.select(\".artprice\")\n",
    "\n",
    "            for x, y, z in zip(article, dimension, price):\n",
    "                artnumbr = re.findall(\"art=\\w{2}\\d+\", str(x))\n",
    "                text = re.findall(\"art=.+>.+\", str(x))\n",
    "\n",
    "                text2 = re.findall(\"arttext.+<\", str(x))\n",
    "                print(clean_text(text + text2))\n",
    "                price_ = re.findall(\"artprice.+>\\d+.+<\", str(z))\n",
    "                try:\n",
    "                    artnumbr = clean_article(artnumbr[0])\n",
    "                    text = clean_text(text)\n",
    "                    l[artnumbr] = [text, price_]\n",
    "                except:\n",
    "                    pass\n",
    "           \n",
    "        except:\n",
    "            pass\n",
    "    return l"
   ]
  },
  {
   "cell_type": "raw",
   "metadata": {},
   "source": [
    "catalog = loop_page(session, page, shop)"
   ]
  },
  {
   "cell_type": "code",
   "execution_count": 305,
   "metadata": {
    "collapsed": true
   },
   "outputs": [],
   "source": [
    "shop = 'Sabag'\n",
    "session = get_session(shop)"
   ]
  },
  {
   "cell_type": "code",
   "execution_count": 306,
   "metadata": {
    "collapsed": false
   },
   "outputs": [],
   "source": [
    "def parse_shop(shop, catalog=(0,10)):\n",
    "    session = get_session(shop)\n",
    "    container = {}\n",
    "    \n",
    "    for p in range(catalog[0], catalog[1]):\n",
    "        container[shop] = loop_page(session, p)\n",
    "    \n",
    "    return container"
   ]
  },
  {
   "cell_type": "code",
   "execution_count": 307,
   "metadata": {
    "collapsed": false
   },
   "outputs": [],
   "source": [
    "container = parse_shop(shop, catalog=(9,10))"
   ]
  },
  {
   "cell_type": "code",
   "execution_count": 296,
   "metadata": {
    "collapsed": false
   },
   "outputs": [
    {
     "data": {
      "text/plain": [
       "{'Sabag': {}}"
      ]
     },
     "execution_count": 296,
     "metadata": {},
     "output_type": "execute_result"
    }
   ],
   "source": [
    "container"
   ]
  },
  {
   "cell_type": "code",
   "execution_count": null,
   "metadata": {
    "collapsed": true
   },
   "outputs": [],
   "source": []
  }
 ],
 "metadata": {
  "kernelspec": {
   "display_name": "Python 3",
   "language": "python",
   "name": "python3"
  },
  "language_info": {
   "codemirror_mode": {
    "name": "ipython",
    "version": 3
   },
   "file_extension": ".py",
   "mimetype": "text/x-python",
   "name": "python",
   "nbconvert_exporter": "python",
   "pygments_lexer": "ipython3",
   "version": "3.6.1"
  }
 },
 "nbformat": 4,
 "nbformat_minor": 2
}
